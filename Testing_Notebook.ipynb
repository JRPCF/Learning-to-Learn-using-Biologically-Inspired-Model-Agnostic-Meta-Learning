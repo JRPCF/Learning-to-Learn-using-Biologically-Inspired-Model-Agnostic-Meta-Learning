{
 "cells": [
  {
   "cell_type": "markdown",
   "metadata": {},
   "source": [
    "Simulation notebook"
   ]
  },
  {
   "cell_type": "code",
   "execution_count": 44,
   "metadata": {
    "scrolled": true
   },
   "outputs": [
    {
     "name": "stdout",
     "output_type": "stream",
     "text": [
      "torch.Size([50])\n",
      "-27.431549072265625 0\n",
      "-58.37797927856445 1\n",
      "-55.19651412963867 2\n",
      "-24.13688850402832 3\n",
      "-55.2797966003418 4\n",
      "-37.598899841308594 5\n",
      "-66.98217010498047 6\n",
      "-45.6826057434082 7\n",
      "-38.50225067138672 8\n",
      "-34.59156036376953 9\n"
     ]
    }
   ],
   "source": [
    "!python regular_main.py --env-name HalfCheetahDir-v1 --fast-lr 0.1 --max-kl 0.01 --fast-batch-size 5 --meta-batch-size 10 --num-layers 2 --hidden-size 50 --num-batches 10 --gamma 0.99 --tau 1.0 --cg-damping 1e-5 --ls-max-steps 15 --output-folder maml-halfcheetah-dir"
   ]
  },
  {
   "cell_type": "code",
   "execution_count": 45,
   "metadata": {},
   "outputs": [
    {
     "name": "stdout",
     "output_type": "stream",
     "text": [
      "torch.Size([50])\n",
      "30.76534652709961 0\n",
      "-40.85337448120117 1\n",
      "-76.61909484863281 2\n",
      "11.873587608337402 3\n",
      "-26.48496437072754 4\n",
      "-9.342961311340332 5\n",
      "4.820789337158203 6\n",
      "23.923660278320312 7\n",
      "21.825504302978516 8\n",
      "31.077722549438477 9\n"
     ]
    }
   ],
   "source": [
    "!python memory_main.py --env-name HalfCheetahDir-v1 --fast-lr 0.1 --max-kl 0.01 --fast-batch-size 5 --meta-batch-size 10 --num-layers 2 --hidden-size 50 --num-batches 10 --gamma 0.99 --tau 1.0 --cg-damping 1e-5 --ls-max-steps 15 --output-folder maml-halfcheetah-dir"
   ]
  },
  {
   "cell_type": "code",
   "execution_count": null,
   "metadata": {},
   "outputs": [],
   "source": []
  }
 ],
 "metadata": {
  "kernelspec": {
   "display_name": "Python 3",
   "language": "python",
   "name": "python3"
  },
  "language_info": {
   "codemirror_mode": {
    "name": "ipython",
    "version": 3
   },
   "file_extension": ".py",
   "mimetype": "text/x-python",
   "name": "python",
   "nbconvert_exporter": "python",
   "pygments_lexer": "ipython3",
   "version": "3.7.3"
  }
 },
 "nbformat": 4,
 "nbformat_minor": 2
}
