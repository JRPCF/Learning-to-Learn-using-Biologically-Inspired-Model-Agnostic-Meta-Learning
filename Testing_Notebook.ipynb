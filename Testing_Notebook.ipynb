{
 "cells": [
  {
   "cell_type": "markdown",
   "metadata": {},
   "source": [
    "Simulation notebook"
   ]
  },
  {
   "cell_type": "code",
   "execution_count": 11,
   "metadata": {
    "scrolled": true
   },
   "outputs": [
    {
     "name": "stdout",
     "output_type": "stream",
     "text": [
      "torch.Size([100])\n",
      "-27.638545989990234 0\n",
      "-22.37315559387207 1\n",
      "-23.8897705078125 2\n",
      "-21.158357620239258 3\n",
      "-20.56363868713379 4\n",
      "-10.749124526977539 5\n",
      "-21.436603546142578 6\n",
      "-9.82213306427002 7\n",
      "-17.132396697998047 8\n",
      "-11.731471061706543 9\n",
      "-10.250646591186523 10\n",
      "-0.8538705110549927 11\n",
      "-9.827105522155762 12\n",
      "8.608630180358887 13\n",
      "5.477550029754639 14\n",
      "19.035823822021484 15\n",
      "23.06525421142578 16\n",
      "14.48454475402832 17\n",
      "18.97112464904785 18\n",
      "24.622060775756836 19\n",
      "43.28417205810547 20\n",
      "29.885761260986328 21\n",
      "32.88898468017578 22\n",
      "55.54573440551758 23\n",
      "43.85717010498047 24\n",
      "57.00531768798828 25\n",
      "67.36971282958984 26\n",
      "55.36583709716797 27\n",
      "72.80671691894531 28\n",
      "64.23489379882812 29\n",
      "66.75776672363281 30\n",
      "70.56461334228516 31\n",
      "77.97344970703125 32\n",
      "77.00814056396484 33\n",
      "56.9718017578125 34\n",
      "84.48124694824219 35\n",
      "81.28587341308594 36\n",
      "87.68150329589844 37\n",
      "97.55941772460938 38\n",
      "103.04996490478516 39\n",
      "80.76818084716797 40\n",
      "101.53260040283203 41\n",
      "118.2642822265625 42\n",
      "110.60700988769531 43\n",
      "113.21014404296875 44\n",
      "118.8175048828125 45\n",
      "104.03273010253906 46\n",
      "112.24859619140625 47\n",
      "101.4511489868164 48\n",
      "112.8504409790039 49\n",
      "113.64692687988281 50\n",
      "109.73844146728516 51\n",
      "97.98274230957031 52\n",
      "117.0097885131836 53\n",
      "101.57737731933594 54\n",
      "109.5160140991211 55\n",
      "136.3234405517578 56\n",
      "122.79573822021484 57\n",
      "133.6367645263672 58\n",
      "115.19938659667969 59\n",
      "127.86134338378906 60\n",
      "151.31182861328125 61\n",
      "145.48033142089844 62\n",
      "154.96229553222656 63\n",
      "137.1084747314453 64\n",
      "136.4805450439453 65\n",
      "^C\n",
      "Process EnvWorker-3:\n",
      "Process EnvWorker-1:\n",
      "Process EnvWorker-2:\n",
      "Traceback (most recent call last):\n",
      "  File \"regular_main.py\", line 147, in <module>\n",
      "    main(args)\n",
      "  File \"regular_main.py\", line 57, in main\n",
      "    episodes = metalearner.sample(tasks, first_order=args.first_order)\n",
      "  File \"/Users/JoseRonaldoPCF/Documents/SEAS Fall 2019/Computation_and_the_brain/Final/Learning-to-Learn-using-Model-Agnostic-Meta-Learning-with-Non-Episodic-Memory/memory_maml_rl/metalearner.py\", line 84, in sample\n",
      "    gamma=self.gamma, device=self.device)\n",
      "  File \"/Users/JoseRonaldoPCF/Documents/SEAS Fall 2019/Computation_and_the_brain/Final/Learning-to-Learn-using-Model-Agnostic-Meta-Learning-with-Non-Episodic-Memory/memory_maml_rl/sampler.py\", line 34, in sample\n",
      "    observations_tensor = torch.from_numpy(observations).to(device=device)\n",
      "KeyboardInterrupt\n"
     ]
    }
   ],
   "source": [
    "!python regular_main.py --env-name HalfCheetahDir-v1 --fast-lr 0.1 --max-kl 0.01 --fast-batch-size 20 --meta-batch-size 40 --num-layers 2 --hidden-size 100 --num-batches 1000 --gamma 0.99 --tau 1.0 --cg-damping 1e-5 --ls-max-steps 15 --output-folder maml-halfcheetah-dir"
   ]
  },
  {
   "cell_type": "code",
   "execution_count": null,
   "metadata": {},
   "outputs": [
    {
     "name": "stdout",
     "output_type": "stream",
     "text": [
      "torch.Size([100])\n",
      "-33.764015197753906 0\n",
      "-34.8090705871582 1\n",
      "-25.581037521362305 2\n",
      "-34.423709869384766 3\n",
      "-24.86189079284668 4\n",
      "-31.211193084716797 5\n",
      "-24.50136947631836 6\n",
      "-31.144744873046875 7\n",
      "-33.4660758972168 8\n"
     ]
    }
   ],
   "source": [
    "!python memory_main.py --env-name HalfCheetahDir-v1 --fast-lr 0.1 --max-kl 0.01 --fast-batch-size 20 --meta-batch-size 40 --num-layers 2 --hidden-size 100 --num-batches 1000 --gamma 0.99 --tau 1.0 --cg-damping 1e-5 --ls-max-steps 15 --output-folder maml-halfcheetah-dir"
   ]
  },
  {
   "cell_type": "code",
   "execution_count": null,
   "metadata": {},
   "outputs": [],
   "source": []
  }
 ],
 "metadata": {
  "kernelspec": {
   "display_name": "Python 3",
   "language": "python",
   "name": "python3"
  },
  "language_info": {
   "codemirror_mode": {
    "name": "ipython",
    "version": 3
   },
   "file_extension": ".py",
   "mimetype": "text/x-python",
   "name": "python",
   "nbconvert_exporter": "python",
   "pygments_lexer": "ipython3",
   "version": "3.7.3"
  }
 },
 "nbformat": 4,
 "nbformat_minor": 2
}
