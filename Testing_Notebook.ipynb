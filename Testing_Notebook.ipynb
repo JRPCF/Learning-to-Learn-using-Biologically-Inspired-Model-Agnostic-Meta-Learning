{
 "cells": [
  {
   "cell_type": "markdown",
   "metadata": {},
   "source": [
    "Simulation notebook"
   ]
  },
  {
   "cell_type": "code",
   "execution_count": 15,
   "metadata": {},
   "outputs": [
    {
     "name": "stdout",
     "output_type": "stream",
     "text": [
      "Traceback (most recent call last):\r\n",
      "  File \"main.py\", line 137, in <module>\r\n",
      "    main(args)\r\n",
      "  File \"main.py\", line 51, in main\r\n",
      "    tasks = sampler.sample_tasks(num_tasks=args.meta_batch_size)\r\n",
      "  File \"/Users/JoseRonaldoPCF/Documents/SEAS Fall 2019/Computation_and_the_brain/Final/Learning-to-Learn-using-Model-Agnostic-Meta-Learning-with-Non-Episodic-Memory/maml_rl/sampler.py\", line 48, in sample_tasks\r\n",
      "    tasks = self._env.unwrapped.sample_tasks(num_tasks)\r\n",
      "AttributeError: 'AtariEnv' object has no attribute 'sample_tasks'\r\n"
     ]
    }
   ],
   "source": [
    "!python main.py --env-name SpaceInvaders-v0 --num-workers 8 --fast-lr 0.1 --max-kl 0.01 --fast-batch-size 20 --meta-batch-size 40 --num-layers 2 --hidden-size 100 --num-batches 1000 --gamma 0.99 --tau 1.0 --cg-damping 1e-5 --ls-max-steps 15 --output-folder maml-halfcheetah-dir --device cuda\n"
   ]
  },
  {
   "cell_type": "code",
   "execution_count": null,
   "metadata": {},
   "outputs": [],
   "source": []
  }
 ],
 "metadata": {
  "kernelspec": {
   "display_name": "Python 3",
   "language": "python",
   "name": "python3"
  },
  "language_info": {
   "codemirror_mode": {
    "name": "ipython",
    "version": 3
   },
   "file_extension": ".py",
   "mimetype": "text/x-python",
   "name": "python",
   "nbconvert_exporter": "python",
   "pygments_lexer": "ipython3",
   "version": "3.7.3"
  }
 },
 "nbformat": 4,
 "nbformat_minor": 2
}
