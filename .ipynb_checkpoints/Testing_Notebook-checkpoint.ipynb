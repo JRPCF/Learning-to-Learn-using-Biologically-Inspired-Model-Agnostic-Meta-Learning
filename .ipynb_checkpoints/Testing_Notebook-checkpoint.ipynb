{
 "cells": [
  {
   "cell_type": "markdown",
   "metadata": {},
   "source": [
    "Simulation notebook"
   ]
  },
  {
   "cell_type": "code",
   "execution_count": null,
   "metadata": {},
   "outputs": [
    {
     "name": "stdout",
     "output_type": "stream",
     "text": [
      "running build_ext\n",
      "building 'mujoco_py.cymj' extension\n",
      "/usr/local/bin/gcc-6 -Wno-unused-result -Wsign-compare -Wunreachable-code -DNDEBUG -g -fwrapv -O3 -Wall -I/Users/JoseRonaldoPCF/anaconda3/include -arch x86_64 -I/Users/JoseRonaldoPCF/anaconda3/include -arch x86_64 -DONMAC -I/Users/JoseRonaldoPCF/anaconda3/lib/python3.7/site-packages/mujoco_py -I/Users/JoseRonaldoPCF/.mujoco/mujoco200/include -I/Users/JoseRonaldoPCF/anaconda3/lib/python3.7/site-packages/numpy/core/include -I/Users/JoseRonaldoPCF/anaconda3/include/python3.7m -c /Users/JoseRonaldoPCF/anaconda3/lib/python3.7/site-packages/mujoco_py/cymj.c -o /Users/JoseRonaldoPCF/anaconda3/lib/python3.7/site-packages/mujoco_py/generated/_pyxbld_2.0.2.8_37_macextensionbuilder/temp.macosx-10.7-x86_64-3.7/Users/JoseRonaldoPCF/anaconda3/lib/python3.7/site-packages/mujoco_py/cymj.o -fopenmp -w\n",
      "/usr/local/bin/gcc-6 -Wno-unused-result -Wsign-compare -Wunreachable-code -DNDEBUG -g -fwrapv -O3 -Wall -I/Users/JoseRonaldoPCF/anaconda3/include -arch x86_64 -I/Users/JoseRonaldoPCF/anaconda3/include -arch x86_64 -DONMAC -I/Users/JoseRonaldoPCF/anaconda3/lib/python3.7/site-packages/mujoco_py -I/Users/JoseRonaldoPCF/.mujoco/mujoco200/include -I/Users/JoseRonaldoPCF/anaconda3/lib/python3.7/site-packages/numpy/core/include -I/Users/JoseRonaldoPCF/anaconda3/include/python3.7m -c /Users/JoseRonaldoPCF/anaconda3/lib/python3.7/site-packages/mujoco_py/gl/dummyshim.c -o /Users/JoseRonaldoPCF/anaconda3/lib/python3.7/site-packages/mujoco_py/generated/_pyxbld_2.0.2.8_37_macextensionbuilder/temp.macosx-10.7-x86_64-3.7/Users/JoseRonaldoPCF/anaconda3/lib/python3.7/site-packages/mujoco_py/gl/dummyshim.o -fopenmp -w\n",
      "creating /Users/JoseRonaldoPCF/anaconda3/lib/python3.7/site-packages/mujoco_py/generated/_pyxbld_2.0.2.8_37_macextensionbuilder/lib.macosx-10.7-x86_64-3.7\n",
      "creating /Users/JoseRonaldoPCF/anaconda3/lib/python3.7/site-packages/mujoco_py/generated/_pyxbld_2.0.2.8_37_macextensionbuilder/lib.macosx-10.7-x86_64-3.7/mujoco_py\n",
      "/usr/local/bin/gcc-6 -bundle -undefined dynamic_lookup -L/Users/JoseRonaldoPCF/anaconda3/lib -arch x86_64 -L/Users/JoseRonaldoPCF/anaconda3/lib -arch x86_64 -arch x86_64 /Users/JoseRonaldoPCF/anaconda3/lib/python3.7/site-packages/mujoco_py/generated/_pyxbld_2.0.2.8_37_macextensionbuilder/temp.macosx-10.7-x86_64-3.7/Users/JoseRonaldoPCF/anaconda3/lib/python3.7/site-packages/mujoco_py/cymj.o /Users/JoseRonaldoPCF/anaconda3/lib/python3.7/site-packages/mujoco_py/generated/_pyxbld_2.0.2.8_37_macextensionbuilder/temp.macosx-10.7-x86_64-3.7/Users/JoseRonaldoPCF/anaconda3/lib/python3.7/site-packages/mujoco_py/gl/dummyshim.o -L/Users/JoseRonaldoPCF/.mujoco/mujoco200/bin -L/Users/JoseRonaldoPCF/.mujoco/mujoco200/bin -lmujoco200 -lglfw.3 -o /Users/JoseRonaldoPCF/anaconda3/lib/python3.7/site-packages/mujoco_py/generated/_pyxbld_2.0.2.8_37_macextensionbuilder/lib.macosx-10.7-x86_64-3.7/mujoco_py/cymj.cpython-37m-darwin.so -fopenmp\n"
     ]
    }
   ],
   "source": [
    "!python main.py --env-name HalfCheetahDir-v1 --num-workers 8 --fast-lr 0.1 --max-kl 0.01 --fast-batch-size 20 --meta-batch-size 40 --num-layers 2 --hidden-size 100 --num-batches 1000 --gamma 0.99 --tau 1.0 --cg-damping 1e-5 --ls-max-steps 15 --output-folder maml-halfcheetah-dir --device cuda"
   ]
  }
 ],
 "metadata": {
  "kernelspec": {
   "display_name": "Python 3",
   "language": "python",
   "name": "python3"
  },
  "language_info": {
   "codemirror_mode": {
    "name": "ipython",
    "version": 3
   },
   "file_extension": ".py",
   "mimetype": "text/x-python",
   "name": "python",
   "nbconvert_exporter": "python",
   "pygments_lexer": "ipython3",
   "version": "3.7.3"
  }
 },
 "nbformat": 4,
 "nbformat_minor": 2
}
