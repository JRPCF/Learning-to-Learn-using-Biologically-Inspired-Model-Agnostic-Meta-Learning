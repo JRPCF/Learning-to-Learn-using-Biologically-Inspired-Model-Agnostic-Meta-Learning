{
 "cells": [
  {
   "cell_type": "markdown",
   "metadata": {},
   "source": [
    "Simulation notebook"
   ]
  },
  {
   "cell_type": "code",
   "execution_count": 20,
   "metadata": {},
   "outputs": [
    {
     "name": "stdout",
     "output_type": "stream",
     "text": [
      "torch.Size([50])\r\n",
      "/Users/JoseRonaldoPCF/anaconda3/lib/python3.7/site-packages/gym/logger.py:30: UserWarning: \u001b[33mWARN: Trying to monitor an environment which has no 'spec' set. This usually means you did not create it via 'gym.make', and is recommended only for advanced users.\u001b[0m\r\n",
      "  warnings.warn(colorize('%s: %s'%('WARN', msg % args), 'yellow'))\r\n"
     ]
    }
   ],
   "source": [
    "!xvfb-run -s \"-screen 0 640x480x24\" python regular_main.py --env-name HalfCheetahDir-v1 --fast-lr 0.1 --max-kl 0.01 --fast-batch-size 5 --meta-batch-size 10 --num-layers 2 --hidden-size 50 --num-batches 10 --gamma 0.99 --tau 1.0 --cg-damping 1e-5 --ls-max-steps 15 --output-folder maml-halfcheetah-dir"
   ]
  },
  {
   "cell_type": "code",
   "execution_count": 5,
   "metadata": {},
   "outputs": [
    {
     "name": "stdout",
     "output_type": "stream",
     "text": [
      "torch.Size([50])\n",
      "^C\n",
      "Process EnvWorker-2:\n",
      "Process EnvWorker-1:\n",
      "Process EnvWorker-3:\n",
      "Traceback (most recent call last):\n",
      "  File \"memory_main.py\", line 137, in <module>\n",
      "    main(args)\n",
      "  File \"memory_main.py\", line 53, in main\n",
      "    episodes = metalearner.sample(tasks, first_order=args.first_order)\n",
      "  File \"/Users/JoseRonaldoPCF/Documents/SEAS Fall 2019/Computation_and_the_brain/Final/Learning-to-Learn-using-Model-Agnostic-Meta-Learning-with-Non-Episodic-Memory/memory_maml_rl/metalearner.py\", line 79, in sample\n",
      "    gamma=self.gamma, device=self.device)\n",
      "  File \"/Users/JoseRonaldoPCF/Documents/SEAS Fall 2019/Computation_and_the_brain/Final/Learning-to-Learn-using-Model-Agnostic-Meta-Learning-with-Non-Episodic-Memory/memory_maml_rl/sampler.py\", line 37, in sample\n",
      "Traceback (most recent call last):\n",
      "  File \"/Users/JoseRonaldoPCF/anaconda3/lib/python3.7/multiprocessing/process.py\", line 297, in _bootstrap\n",
      "    self.run()\n",
      "  File \"/Users/JoseRonaldoPCF/Documents/SEAS Fall 2019/Computation_and_the_brain/Final/Learning-to-Learn-using-Model-Agnostic-Meta-Learning-with-Non-Episodic-Memory/maml_rl/envs/subproc_vec_env.py\", line 40, in run\n",
      "    command, data = self.remote.recv()\n",
      "  File \"/Users/JoseRonaldoPCF/anaconda3/lib/python3.7/multiprocessing/connection.py\", line 250, in recv\n",
      "    buf = self._recv_bytes()\n",
      "  File \"/Users/JoseRonaldoPCF/anaconda3/lib/python3.7/multiprocessing/connection.py\", line 407, in _recv_bytes\n",
      "    buf = self._recv(4)\n",
      "  File \"/Users/JoseRonaldoPCF/anaconda3/lib/python3.7/multiprocessing/connection.py\", line 379, in _recv\n",
      "    chunk = read(handle, remaining)\n",
      "KeyboardInterrupt\n",
      "    new_observations, rewards, dones, new_batch_ids, _ = self.envs.step(actions)\n",
      "  File \"/Users/JoseRonaldoPCF/Documents/SEAS Fall 2019/Computation_and_the_brain/Final/Learning-to-Learn-using-Model-Agnostic-Meta-Learning-with-Non-Episodic-Memory/maml_rl/envs/subproc_vec_env.py\", line 83, in step\n",
      "    return self.step_wait()\n",
      "  File \"/Users/JoseRonaldoPCF/Documents/SEAS Fall 2019/Computation_and_the_brain/Final/Learning-to-Learn-using-Model-Agnostic-Meta-Learning-with-Non-Episodic-Memory/maml_rl/envs/subproc_vec_env.py\", line 91, in step_wait\n",
      "    results = [remote.recv() for remote in self.remotes]\n",
      "  File \"/Users/JoseRonaldoPCF/Documents/SEAS Fall 2019/Computation_and_the_brain/Final/Learning-to-Learn-using-Model-Agnostic-Meta-Learning-with-Non-Episodic-Memory/maml_rl/envs/subproc_vec_env.py\", line 91, in <listcomp>\n",
      "    results = [remote.recv() for remote in self.remotes]\n",
      "  File \"/Users/JoseRonaldoPCF/anaconda3/lib/python3.7/multiprocessing/connection.py\", line 250, in recv\n",
      "    buf = self._recv_bytes()\n",
      "  File \"/Users/JoseRonaldoPCF/anaconda3/lib/python3.7/multiprocessing/connection.py\", line 407, in _recv_bytes\n",
      "    buf = self._recv(4)\n",
      "  File \"/Users/JoseRonaldoPCF/anaconda3/lib/python3.7/multiprocessing/connection.py\", line 379, in _recv\n",
      "    chunk = read(handle, remaining)\n",
      "KeyboardInterrupt\n"
     ]
    }
   ],
   "source": [
    "!python memory_main.py --env-name HalfCheetahDir-v1 --fast-lr 0.1 --max-kl 0.01 --fast-batch-size 5 --meta-batch-size 10 --num-layers 2 --hidden-size 50 --num-batches 10 --gamma 0.99 --tau 1.0 --cg-damping 1e-5 --ls-max-steps 15 --output-folder maml-halfcheetah-dir"
   ]
  },
  {
   "cell_type": "code",
   "execution_count": null,
   "metadata": {},
   "outputs": [],
   "source": []
  }
 ],
 "metadata": {
  "kernelspec": {
   "display_name": "Python 3",
   "language": "python",
   "name": "python3"
  },
  "language_info": {
   "codemirror_mode": {
    "name": "ipython",
    "version": 3
   },
   "file_extension": ".py",
   "mimetype": "text/x-python",
   "name": "python",
   "nbconvert_exporter": "python",
   "pygments_lexer": "ipython3",
   "version": "3.7.3"
  }
 },
 "nbformat": 4,
 "nbformat_minor": 2
}
